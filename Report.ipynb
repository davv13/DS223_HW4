{
 "cells": [
  {
   "cell_type": "markdown",
   "metadata": {},
   "source": [
    "# **Social Network Analysis Homework** \n",
    "\n",
    "## **Scenario** \n",
    "#### You are working in the marketing department or at Marketing Agency, and your goal is to detect the most important guys to target them. Considering the budget is limited, you should help the marketing specialist to decide whom to target.\n",
    "#### You have a data called connections.txt, it is list of edges."
   ]
  },
  {
   "cell_type": "markdown",
   "metadata": {},
   "source": [
    "# **Tasks**"
   ]
  },
  {
   "cell_type": "markdown",
   "metadata": {},
   "source": [
    "### **Import Libraries**"
   ]
  },
  {
   "cell_type": "code",
   "execution_count": 22,
   "metadata": {},
   "outputs": [],
   "source": [
    "import pandas as pd\n",
    "import matplotlib.pyplot as plt\n",
    "import networkx as nx\n",
    "from heapq import nlargest, nsmallest\n",
    "import scipy as sp\n",
    "from infomap import Infomap"
   ]
  },
  {
   "cell_type": "markdown",
   "metadata": {},
   "source": [
    "## **1. Create a Directed graph.** "
   ]
  },
  {
   "cell_type": "code",
   "execution_count": 6,
   "metadata": {},
   "outputs": [],
   "source": [
    "G = nx.DiGraph()\n",
    "\n",
    "# Add edges to the graph\n",
    "with open('connections.txt', 'r') as file:\n",
    "    for line in file:\n",
    "        node1, node2 = line.strip().split()\n",
    "        G.add_edge(node1, node2)"
   ]
  },
  {
   "cell_type": "markdown",
   "metadata": {},
   "source": [
    "## **2. Show which nodes are bridges.** "
   ]
  },
  {
   "cell_type": "markdown",
   "metadata": {},
   "source": [
    "### **2.1 All bridge nodes of directed graph.**"
   ]
  },
  {
   "cell_type": "code",
   "execution_count": 7,
   "metadata": {},
   "outputs": [],
   "source": [
    "def find_bridges_directed(G):\n",
    "    original_num_components = nx.number_strongly_connected_components(G)\n",
    "    bridges = []\n",
    "    for node in G.nodes():\n",
    "        G_copy = G.copy()\n",
    "        G_copy.remove_node(node)\n",
    "        if nx.number_strongly_connected_components(G_copy) > original_num_components:\n",
    "            bridges.append(node)\n",
    "    return bridges\n",
    "\n",
    "bridge_nodes = find_bridges_directed(G)"
   ]
  },
  {
   "cell_type": "markdown",
   "metadata": {},
   "source": [
    "### **2.2 All bridge nodes of undirected graph.**\n",
    "#### The reason that I also identify the bridge nodes of undirected graph is that in a directed graph, edges have a direction, and the concept of connectivity is not so intuitive. In directed graphs, there are different notions of connectivity, such as strong connectivity and weak connectivity, and the removal of an edge may not necessarily impact the overall connectivity of the graph in the same way as in undirected graphs. In an undirected graph, the removal of a bridge can disconnect the graph or split it into multiple components."
   ]
  },
  {
   "cell_type": "code",
   "execution_count": 8,
   "metadata": {},
   "outputs": [],
   "source": [
    "G_undirected = G.copy().to_undirected()\n",
    "\n",
    "bridges_undirected = list(nx.bridges(G_undirected))"
   ]
  },
  {
   "cell_type": "markdown",
   "metadata": {},
   "source": [
    "## **3. Show the density of the graph. Comment about your findings.**"
   ]
  },
  {
   "cell_type": "code",
   "execution_count": 10,
   "metadata": {},
   "outputs": [
    {
     "name": "stdout",
     "output_type": "stream",
     "text": [
      "Density of the graph is 0.0054099817517196435\n",
      "The graph is sparse, so there are quite few connections between nodes.\n"
     ]
    }
   ],
   "source": [
    "density = nx.density(G)\n",
    "print(\"Density of the graph is\", density)\n",
    "\n",
    "if density > 0.5:\n",
    "    print(\"The graph is relatively dense, so there are considerably many connections between nodes.\")\n",
    "elif density > 0.1:\n",
    "    print(\"The graph has a moderate level of density.\")\n",
    "else:\n",
    "    print(\"The graph is sparse, so there are quite few connections between nodes.\")"
   ]
  },
  {
   "cell_type": "code",
   "execution_count": 12,
   "metadata": {},
   "outputs": [
    {
     "data": {
      "text/plain": [
       "(4039, 88234)"
      ]
     },
     "execution_count": 12,
     "metadata": {},
     "output_type": "execute_result"
    }
   ],
   "source": [
    "(G.number_of_nodes(), G.number_of_edges())"
   ]
  },
  {
   "cell_type": "markdown",
   "metadata": {},
   "source": [
    "#### There doesn't exist any universal rule for defining the density of the graph. In this case, considering the volume of our connections data, I believe that 0.005 density should be considered as sparse, as it's indicates the sparsity of the connections between nodes."
   ]
  },
  {
   "cell_type": "markdown",
   "metadata": {},
   "source": [
    "## **4. Show which nodes have the highest and lowest number of connections.**"
   ]
  },
  {
   "cell_type": "markdown",
   "metadata": {},
   "source": [
    "### **4.1 Find the 10 nodes with the highest degree.**"
   ]
  },
  {
   "cell_type": "code",
   "execution_count": 14,
   "metadata": {},
   "outputs": [
    {
     "name": "stdout",
     "output_type": "stream",
     "text": [
      "Top 10 nodes with the highest connections:\n",
      "Node 107: Degree 1045\n",
      "Node 1684: Degree 792\n",
      "Node 1912: Degree 755\n",
      "Node 3437: Degree 547\n",
      "Node 0: Degree 347\n",
      "Node 2543: Degree 294\n",
      "Node 2347: Degree 291\n",
      "Node 1888: Degree 254\n",
      "Node 1800: Degree 245\n",
      "Node 1663: Degree 235\n"
     ]
    }
   ],
   "source": [
    "degrees = dict(G.degree)\n",
    "highest_degrees = nlargest(10, degrees, key=degrees.get)\n",
    "\n",
    "print(\"Top 10 nodes with the highest connections:\")\n",
    "for i in highest_degrees:\n",
    "    print(f\"Node {i}: Degree {degrees[i]}\")"
   ]
  },
  {
   "cell_type": "markdown",
   "metadata": {},
   "source": [
    "### **4.2 Find the 10 nodes with the lowest degree.**"
   ]
  },
  {
   "cell_type": "code",
   "execution_count": 16,
   "metadata": {},
   "outputs": [
    {
     "name": "stdout",
     "output_type": "stream",
     "text": [
      "Top 10 nodes with the lowest connections:\n",
      "Node 11: Degree 1\n",
      "Node 12: Degree 1\n",
      "Node 15: Degree 1\n",
      "Node 18: Degree 1\n",
      "Node 37: Degree 1\n",
      "Node 43: Degree 1\n",
      "Node 74: Degree 1\n",
      "Node 114: Degree 1\n",
      "Node 209: Degree 1\n",
      "Node 210: Degree 1\n"
     ]
    }
   ],
   "source": [
    "lowest_degrees = nsmallest(10, degrees, key=degrees.get)\n",
    "\n",
    "print(\"Top 10 nodes with the lowest connections:\")\n",
    "for i in lowest_degrees:\n",
    "    print(f\"Node {i}: Degree {degrees[i]}\")"
   ]
  },
  {
   "cell_type": "markdown",
   "metadata": {},
   "source": [
    "## **5. Show which nodes have the highest incoming and outgoing connections.**"
   ]
  },
  {
   "cell_type": "markdown",
   "metadata": {},
   "source": [
    "### **5.1 10 Highest Incoming Connections.**"
   ]
  },
  {
   "cell_type": "code",
   "execution_count": 17,
   "metadata": {},
   "outputs": [
    {
     "name": "stdout",
     "output_type": "stream",
     "text": [
      "10 Highest Incoming Connections:\n",
      "Node 1888: Degree 251\n",
      "Node 2543: Degree 246\n",
      "Node 1800: Degree 216\n",
      "Node 2611: Degree 197\n",
      "Node 1827: Degree 186\n",
      "Node 1730: Degree 183\n",
      "Node 2607: Degree 183\n",
      "Node 1833: Degree 182\n",
      "Node 2602: Degree 182\n",
      "Node 2604: Degree 182\n"
     ]
    }
   ],
   "source": [
    "in_degrees = dict(G.in_degree)\n",
    "highest_IN_degrees = nlargest(10, in_degrees, key = in_degrees.get)\n",
    "\n",
    "print(\"10 Highest Incoming Connections:\")\n",
    "for i in highest_IN_degrees:\n",
    "    print(f'Node {i}: Degree {in_degrees[i]}')"
   ]
  },
  {
   "cell_type": "markdown",
   "metadata": {},
   "source": [
    "### **5.2 10 Highest Outgoing Connections.**"
   ]
  },
  {
   "cell_type": "code",
   "execution_count": 18,
   "metadata": {},
   "outputs": [
    {
     "name": "stdout",
     "output_type": "stream",
     "text": [
      "10 Highest Outgoing Connections:\n",
      "Node 107: Degree 1043\n",
      "Node 1684: Degree 778\n",
      "Node 1912: Degree 748\n",
      "Node 3437: Degree 542\n",
      "Node 0: Degree 347\n",
      "Node 348: Degree 225\n",
      "Node 1941: Degree 215\n",
      "Node 1985: Degree 207\n",
      "Node 483: Degree 191\n",
      "Node 1917: Degree 189\n"
     ]
    }
   ],
   "source": [
    "out_degrees = dict(G.out_degree)\n",
    "highest_OUT_degrees = nlargest(10, out_degrees, key = out_degrees.get)\n",
    "\n",
    "print(\"10 Highest Outgoing Connections:\")\n",
    "for i in highest_OUT_degrees:\n",
    "    print(f'Node {i}: Degree {out_degrees[i]}')"
   ]
  },
  {
   "cell_type": "markdown",
   "metadata": {},
   "source": [
    "## **6. Show which nodes have the highest closeness, betweenness, and eigenvector | Interpret your findings.**"
   ]
  },
  {
   "cell_type": "markdown",
   "metadata": {},
   "source": [
    "### **6.1 Closeness Centrality.**"
   ]
  },
  {
   "cell_type": "code",
   "execution_count": 19,
   "metadata": {},
   "outputs": [
    {
     "name": "stdout",
     "output_type": "stream",
     "text": [
      "10 Highest Closeness Centrality Nodes:\n",
      "Node 2642: Closeness 0.11797503012816456\n",
      "Node 2649: Closeness 0.11793232689533308\n",
      "Node 2629: Closeness 0.11629338421878259\n",
      "Node 2643: Closeness 0.11591804904451317\n",
      "Node 2543: Closeness 0.11590243183892303\n",
      "Node 2598: Closeness 0.11575806082880183\n",
      "Node 2653: Closeness 0.11445163014209331\n",
      "Node 2617: Closeness 0.1124444577085752\n",
      "Node 2616: Closeness 0.1123491465226688\n",
      "Node 2555: Closeness 0.11138475818308745\n"
     ]
    }
   ],
   "source": [
    "closeness = nx.closeness_centrality(G)\n",
    "top_closeness = nlargest(10, closeness, key=closeness.get)\n",
    "print(\"10 Highest Closeness Centrality Nodes:\")\n",
    "for i in top_closeness:\n",
    "    print(f'Node {i}: Closeness {closeness[i]}')"
   ]
  },
  {
   "cell_type": "markdown",
   "metadata": {},
   "source": [
    "### **6.1.1 Interpretation.**"
   ]
  },
  {
   "cell_type": "markdown",
   "metadata": {},
   "source": [
    "##### In general, **closeness centrality** measures how close a node is to other nodes in the network. So, nodes with high closeness centrality values are considered to be central in terms of proximity to other nodes.\n",
    "\n",
    "##### Based on the above results, we can see that all 10 nodes are quite close to each other. **Node 2642** has the highest closeness centrality, it is very close to other nodes in the network. **Node 2649** is also very central in terms of closeness. The remaining nodes also have relatively high closeness centrality, they are closely connected to other nodes in the network."
   ]
  },
  {
   "cell_type": "markdown",
   "metadata": {},
   "source": [
    "### **6.2 Betweenness Centrality.**"
   ]
  },
  {
   "cell_type": "code",
   "execution_count": 20,
   "metadata": {},
   "outputs": [
    {
     "name": "stdout",
     "output_type": "stream",
     "text": [
      "10 Highest Betweenness Centrality Nodes:\n",
      "Node 1684: Betweenness 0.03299985344063623\n",
      "Node 1912: Betweenness 0.027145672353148857\n",
      "Node 1718: Betweenness 0.026577614223444346\n",
      "Node 563: Betweenness 0.01300961569074186\n",
      "Node 1405: Betweenness 0.010123670299605515\n",
      "Node 1656: Betweenness 0.009425937129610911\n",
      "Node 1086: Betweenness 0.008553563518788857\n",
      "Node 567: Betweenness 0.008300375906658487\n",
      "Node 3437: Betweenness 0.008194350620311139\n",
      "Node 119: Betweenness 0.006358997369476009\n"
     ]
    }
   ],
   "source": [
    "betweenness = nx.betweenness_centrality(G)\n",
    "top_betweenness = nlargest(10, betweenness, key=betweenness.get)\n",
    "print(\"10 Highest Betweenness Centrality Nodes:\")\n",
    "for i in top_betweenness:\n",
    "    print(f'Node {i}: Betweenness {betweenness[i]}')"
   ]
  },
  {
   "cell_type": "markdown",
   "metadata": {},
   "source": [
    "### **6.2.1 Interpretation.**"
   ]
  },
  {
   "cell_type": "markdown",
   "metadata": {},
   "source": [
    "##### In general, **Betweenness centrality** identifies nodes that act as bridges in the network. Nodes with high betweenness centrality values play a crucial role in connecting different parts of the network.\n",
    "\n",
    "##### Based on the above results, **Node 1684** has the highest betweenness centrality, it lies on many shortest paths between other nodes. **Nodes 1912, 1718, 563** also have significant betweenness centrality, being important while connecting different parts of the network."
   ]
  },
  {
   "cell_type": "markdown",
   "metadata": {},
   "source": [
    "### **6.3 Eigenvector Centrality.**"
   ]
  },
  {
   "cell_type": "code",
   "execution_count": 21,
   "metadata": {},
   "outputs": [
    {
     "name": "stdout",
     "output_type": "stream",
     "text": [
      "10 Highest Eigenvector Centrality Nodes:\n",
      "Node 2655: Eigenvector 0.8027042996706522\n",
      "Node 2654: Eigenvector 0.47986846225069085\n",
      "Node 2646: Eigenvector 0.22755258082041144\n",
      "Node 2638: Eigenvector 0.17819686548554586\n",
      "Node 2631: Eigenvector 0.16693182569883536\n",
      "Node 2630: Eigenvector 0.09478306024200825\n",
      "Node 2625: Eigenvector 0.059114290482167264\n",
      "Node 2624: Eigenvector 0.03321924750750348\n",
      "Node 2619: Eigenvector 0.013399669488129021\n",
      "Node 2623: Eigenvector 0.012130507791556274\n"
     ]
    }
   ],
   "source": [
    "eigenvector = nx.eigenvector_centrality(G, max_iter=300)\n",
    "top_eigenvector = nlargest(10, eigenvector, key=eigenvector.get)\n",
    "print(\"10 Highest Eigenvector Centrality Nodes:\")\n",
    "for i in top_eigenvector:\n",
    "    print(f'Node {i}: Eigenvector {eigenvector[i]}')"
   ]
  },
  {
   "cell_type": "markdown",
   "metadata": {},
   "source": [
    "### **6.3.1 Interpretation.**"
   ]
  },
  {
   "cell_type": "markdown",
   "metadata": {},
   "source": [
    "##### In general, **eigenvector centrality** assigns importance to nodes based on their connections to other important nodes. Nodes with high eigenvector centrality are connected to other nodes with high centrality.\n",
    "\n",
    "##### Based on the above results, **Node 2655** has the highest eigenvector centrality, it is connected to other nodes that are also well-connected to other important nodes. **Nodes 2654, 2646** also have relatively high eigenvector centrality."
   ]
  },
  {
   "cell_type": "markdown",
   "metadata": {},
   "source": [
    "## **7. Implement a community detection algorithm on the directed graph and show how many communities were created.**"
   ]
  },
  {
   "cell_type": "code",
   "execution_count": null,
   "metadata": {},
   "outputs": [],
   "source": [
    "def findCommunities(G):\n",
    "    im = Infomap(\"--two-level --directed\")\n",
    "    print(\"Building Infomap network from a NetworkX graph...\")\n",
    "    \n",
    "    for e in G.edges():\n",
    "        im.addLink(*e)\n",
    "        \n",
    "    print(\"Find communities with Infomap...\")\n",
    "    im.run();\n",
    "    print(\"Found {0} communities with codelength: {1}\".format(im.num_top_modules,\n",
    "    im.codelength))\n",
    "    communities = {}\n",
    "    \n",
    "    for node in im.tree:\n",
    "        communities[node.node_id] = node.module_id\n",
    "        \n",
    "    nx.set_node_attributes(G, communities,'community')\n",
    "    return im.num_top_modules "
   ]
  },
  {
   "cell_type": "markdown",
   "metadata": {},
   "source": [
    "## **8. Show the largest and the smallest community. | Interpret your findings.** "
   ]
  },
  {
   "cell_type": "code",
   "execution_count": null,
   "metadata": {},
   "outputs": [],
   "source": []
  },
  {
   "cell_type": "markdown",
   "metadata": {},
   "source": [
    "## **9. Select the largest three communities and draw them. After doing so, remove the top 3 nodes with the highest Degree Centrality, Closeness Centrality, Betweenness Centrality, and Eigenvector. Each should be in a separate plot/draw.**"
   ]
  },
  {
   "cell_type": "code",
   "execution_count": null,
   "metadata": {},
   "outputs": [],
   "source": []
  },
  {
   "cell_type": "markdown",
   "metadata": {},
   "source": [
    "## **10. Draw the influencers of those top 3 communities.**"
   ]
  },
  {
   "cell_type": "code",
   "execution_count": null,
   "metadata": {},
   "outputs": [],
   "source": []
  },
  {
   "cell_type": "markdown",
   "metadata": {},
   "source": [
    "## **11. Design an action plan:** \n",
    "- ### **a. Use hypothetical business (telecom, marketing agency, etc.).** \n",
    "- ### **b. Use a hypothetical marketing budget.** \n",
    "- ### **c. Use a hypothetical cost per action (advertisement cost).** \n",
    "- ### **d. Decide whom should you target?** "
   ]
  },
  {
   "cell_type": "code",
   "execution_count": null,
   "metadata": {},
   "outputs": [],
   "source": []
  }
 ],
 "metadata": {
  "kernelspec": {
   "display_name": "venv",
   "language": "python",
   "name": "python3"
  },
  "language_info": {
   "codemirror_mode": {
    "name": "ipython",
    "version": 3
   },
   "file_extension": ".py",
   "mimetype": "text/x-python",
   "name": "python",
   "nbconvert_exporter": "python",
   "pygments_lexer": "ipython3",
   "version": "3.8.5"
  }
 },
 "nbformat": 4,
 "nbformat_minor": 2
}
